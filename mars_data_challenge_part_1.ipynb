{
 "cells": [
  {
   "cell_type": "code",
   "execution_count": 3,
   "metadata": {},
   "outputs": [],
   "source": [
    "import json\n",
    "import pandas as pd\n",
    "\n",
    "from splinter import Browser\n",
    "from bs4 import BeautifulSoup as soup\n",
    "from webdriver_manager.chrome import ChromeDriverManager\n",
    "\n",
    "executable_path = {'executable_path': ChromeDriverManager().install()}\n",
    "browser = Browser('chrome', **executable_path, headless=False)"
   ]
  },
  {
   "cell_type": "code",
   "execution_count": 4,
   "metadata": {},
   "outputs": [],
   "source": [
    "url = 'https://redplanetscience.com/'\n",
    "browser.visit(url)\n",
    "html = browser.html\n",
    "soup = soup(html, 'html.parser')"
   ]
  },
  {
   "cell_type": "code",
   "execution_count": 5,
   "metadata": {},
   "outputs": [
    {
     "name": "stdout",
     "output_type": "stream",
     "text": [
      "1 . The Man Who Wanted to Fly on Mars\n",
      "2 . Curiosity Mars Rover's Summer Road Trip Has Begun\n",
      "3 . NASA's Perseverance Rover 100 Days Out\n",
      "4 . NASA's New Mars Rover Will Use X-Rays to Hunt Fossils\n",
      "5 . NASA's Perseverance Rover Will Look at Mars Through These 'Eyes'\n",
      "6 . Naming a NASA Mars Rover Can Change Your Life\n",
      "7 . Mars Scientists Investigate Ancient Life in Australia\n",
      "8 . Q&A with the Student Who Named Ingenuity, NASA's Mars Helicopter\n",
      "9 . New Selfie Shows Curiosity, the Mars Chemist\n",
      "10 . While Stargazing on Mars, NASA's Curiosity Rover Spots Earth and Venus\n",
      "11 . NASA's Ingenuity Mars Helicopter Recharges Its Batteries in Flight\n",
      "12 . NASA to Reveal Name of Its Next Mars Rover\n",
      "13 . NASA's Briefcase-Size MarCO Satellite Picks Up Honors\n",
      "14 . NASA Moves Forward With Campaign to Return Mars Samples to Earth\n",
      "15 . 6 Things to Know About NASA's Ingenuity Mars Helicopter\n"
     ]
    }
   ],
   "source": [
    "titles=soup.find_all('div',class_='content_title')\n",
    "\n",
    "a=1\n",
    "for title in titles:\n",
    "    print(a,\".\",title.text)\n",
    "    a=a+1"
   ]
  },
  {
   "cell_type": "code",
   "execution_count": 6,
   "metadata": {},
   "outputs": [
    {
     "name": "stdout",
     "output_type": "stream",
     "text": [
      "1 . The Mars Helicopter is riding to the Red Planet this summer with NASA's Perseverance rover. The helicopter's chief engineer, Bob Balaram, shares the saga of how it came into being.\n",
      "2 . After more than a year in the \"clay-bearing unit,\" Curiosity is making a mile-long journey around some deep sand so that it can explore higher up Mount Sharp.\n",
      "3 . Mark your calendars: The agency's latest rover has only about 8,640,000 seconds to go before it touches down on the Red Planet, becoming history's next Mars car.\n",
      "4 . PIXL, an instrument on the end of the Perseverance rover's arm, will search for chemical fingerprints left by ancient microbes.\n",
      "5 . A pair of zoomable cameras will help scientists and rover drivers with high-resolution color images.\n",
      "6 . Want to name the robotic scientist NASA is sending to Mars in 2020? The student who named Curiosity — the rover currently exploring Mars — will tell you this is an opportunity worth taking.\n",
      "7 . Teams with NASA's Mars 2020 and ESA's ExoMars practiced hunting for fossilized microbial life in the Australian Outback in preparation for their Red Planet missions. \n",
      "8 . As a longtime fan of space exploration, Vaneeza Rupani appreciates the creativity and collaboration involved with trying to fly on another planet.\n",
      "9 . The NASA rover performed a special chemistry experiment at the location captured in its newest self-portrait.\n",
      "10 . This new portrait of the Red Planet's neighbors was taken during a time when there's more dust in the air on Mars.\n",
      "11 . Headed to the Red Planet with the Perseverance rover, the pioneering helicopter is powered up for the first time in interplanetary space as part of a systems check.\n",
      "12 . After a months-long contest among students to name NASA's newest Mars rover, the agency will reveal the winning name — and the winning student — this Thursday. \n",
      "13 . The twin spacecraft, the first of their kind to fly into deep space, earn a Laureate from Aviation Week & Space Technology.\n",
      "14 . During this next phase, the program will mature critical technologies and make critical design decisions as well as assess industry partnerships.\n",
      "15 . The first helicopter attempting to fly on another planet is a marvel of engineering. Get up to speed with these key facts about its plans.\n"
     ]
    }
   ],
   "source": [
    "summaries= soup.find_all('div', class_='article_teaser_body')\n",
    "\n",
    "b=1\n",
    "for summary in summaries:\n",
    "    print(b,'.',summary.text)\n",
    "    b=b+1"
   ]
  },
  {
   "cell_type": "code",
   "execution_count": 7,
   "metadata": {},
   "outputs": [
    {
     "name": "stdout",
     "output_type": "stream",
     "text": [
      "[{'title': 'The Man Who Wanted to Fly on Mars', 'preview': \"The Mars Helicopter is riding to the Red Planet this summer with NASA's Perseverance rover. The helicopter's chief engineer, Bob Balaram, shares the saga of how it came into being.\"}, {'title': \"Curiosity Mars Rover's Summer Road Trip Has Begun\", 'preview': 'After more than a year in the \"clay-bearing unit,\" Curiosity is making a mile-long journey around some deep sand so that it can explore higher up Mount Sharp.'}, {'title': \"NASA's Perseverance Rover 100 Days Out\", 'preview': \"Mark your calendars: The agency's latest rover has only about 8,640,000 seconds to go before it touches down on the Red Planet, becoming history's next Mars car.\"}, {'title': \"NASA's New Mars Rover Will Use X-Rays to Hunt Fossils\", 'preview': \"PIXL, an instrument on the end of the Perseverance rover's arm, will search for chemical fingerprints left by ancient microbes.\"}, {'title': \"NASA's Perseverance Rover Will Look at Mars Through These 'Eyes'\", 'preview': 'A pair of zoomable cameras will help scientists and rover drivers with high-resolution color images.'}, {'title': 'Naming a NASA Mars Rover Can Change Your Life', 'preview': 'Want to name the robotic scientist NASA is sending to Mars in 2020? The student who named Curiosity — the rover currently exploring Mars — will tell you this is an opportunity worth taking.'}, {'title': 'Mars Scientists Investigate Ancient Life in Australia', 'preview': \"Teams with NASA's Mars 2020 and ESA's ExoMars practiced hunting for fossilized microbial life in the Australian Outback in preparation for their Red Planet missions. \"}, {'title': \"Q&A with the Student Who Named Ingenuity, NASA's Mars Helicopter\", 'preview': 'As a longtime fan of space exploration, Vaneeza Rupani appreciates the creativity and collaboration involved with trying to fly on another planet.'}, {'title': 'New Selfie Shows Curiosity, the Mars Chemist', 'preview': 'The NASA rover performed a special chemistry experiment at the location captured in its newest self-portrait.'}, {'title': \"While Stargazing on Mars, NASA's Curiosity Rover Spots Earth and Venus\", 'preview': \"This new portrait of the Red Planet's neighbors was taken during a time when there's more dust in the air on Mars.\"}, {'title': \"NASA's Ingenuity Mars Helicopter Recharges Its Batteries in Flight\", 'preview': 'Headed to the Red Planet with the Perseverance rover, the pioneering helicopter is powered up for the first time in interplanetary space as part of a systems check.'}, {'title': 'NASA to Reveal Name of Its Next Mars Rover', 'preview': \"After a months-long contest among students to name NASA's newest Mars rover, the agency will reveal the winning name — and the winning student — this Thursday. \"}, {'title': \"NASA's Briefcase-Size MarCO Satellite Picks Up Honors\", 'preview': 'The twin spacecraft, the first of their kind to fly into deep space, earn a Laureate from Aviation Week & Space Technology.'}, {'title': 'NASA Moves Forward With Campaign to Return Mars Samples to Earth', 'preview': 'During this next phase, the program will mature critical technologies and make critical design decisions as well as assess industry partnerships.'}, {'title': \"6 Things to Know About NASA's Ingenuity Mars Helicopter\", 'preview': 'The first helicopter attempting to fly on another planet is a marvel of engineering. Get up to speed with these key facts about its plans.'}]\n"
     ]
    }
   ],
   "source": [
    "slide_elem = soup.find_all('div',class_='list_text')\n",
    "\n",
    "mars_list = []\n",
    "for elem in slide_elem:\n",
    "    mars_data={\"title\":\"\",\"preview\":\"\"}\n",
    "    title=elem.find('div',class_='content_title').text\n",
    "    summary= elem.find('div', class_='article_teaser_body').text\n",
    "    mars_data[\"title\"] = title\n",
    "    mars_data[\"preview\"] = summary\n",
    "    mars_list.append(mars_data)\n",
    "print(mars_list)"
   ]
  },
  {
   "cell_type": "code",
   "execution_count": 8,
   "metadata": {},
   "outputs": [
    {
     "name": "stdout",
     "output_type": "stream",
     "text": [
      "[{\"title\": \"The Man Who Wanted to Fly on Mars\", \"preview\": \"The Mars Helicopter is riding to the Red Planet this summer with NASA's Perseverance rover. The helicopter's chief engineer, Bob Balaram, shares the saga of how it came into being.\"}, {\"title\": \"Curiosity Mars Rover's Summer Road Trip Has Begun\", \"preview\": \"After more than a year in the \\\"clay-bearing unit,\\\" Curiosity is making a mile-long journey around some deep sand so that it can explore higher up Mount Sharp.\"}, {\"title\": \"NASA's Perseverance Rover 100 Days Out\", \"preview\": \"Mark your calendars: The agency's latest rover has only about 8,640,000 seconds to go before it touches down on the Red Planet, becoming history's next Mars car.\"}, {\"title\": \"NASA's New Mars Rover Will Use X-Rays to Hunt Fossils\", \"preview\": \"PIXL, an instrument on the end of the Perseverance rover's arm, will search for chemical fingerprints left by ancient microbes.\"}, {\"title\": \"NASA's Perseverance Rover Will Look at Mars Through These 'Eyes'\", \"preview\": \"A pair of zoomable cameras will help scientists and rover drivers with high-resolution color images.\"}, {\"title\": \"Naming a NASA Mars Rover Can Change Your Life\", \"preview\": \"Want to name the robotic scientist NASA is sending to Mars in 2020? The student who named Curiosity \\u2014 the rover currently exploring Mars \\u2014 will tell you this is an opportunity worth taking.\"}, {\"title\": \"Mars Scientists Investigate Ancient Life in Australia\", \"preview\": \"Teams with NASA's Mars 2020 and ESA's ExoMars practiced hunting for fossilized microbial life in the Australian Outback in preparation for their Red Planet missions. \"}, {\"title\": \"Q&A with the Student Who Named Ingenuity, NASA's Mars Helicopter\", \"preview\": \"As a longtime fan of space exploration, Vaneeza Rupani appreciates the creativity and collaboration involved with trying to fly on another planet.\"}, {\"title\": \"New Selfie Shows Curiosity, the Mars Chemist\", \"preview\": \"The NASA rover performed a special chemistry experiment at the location captured in its newest self-portrait.\"}, {\"title\": \"While Stargazing on Mars, NASA's Curiosity Rover Spots Earth and Venus\", \"preview\": \"This new portrait of the Red Planet's neighbors was taken during a time when there's more dust in the air on Mars.\"}, {\"title\": \"NASA's Ingenuity Mars Helicopter Recharges Its Batteries in Flight\", \"preview\": \"Headed to the Red Planet with the Perseverance rover, the pioneering helicopter is powered up for the first time in interplanetary space as part of a systems check.\"}, {\"title\": \"NASA to Reveal Name of Its Next Mars Rover\", \"preview\": \"After a months-long contest among students to name NASA's newest Mars rover, the agency will reveal the winning name \\u2014 and the winning student \\u2014 this Thursday. \"}, {\"title\": \"NASA's Briefcase-Size MarCO Satellite Picks Up Honors\", \"preview\": \"The twin spacecraft, the first of their kind to fly into deep space, earn a Laureate from Aviation Week & Space Technology.\"}, {\"title\": \"NASA Moves Forward With Campaign to Return Mars Samples to Earth\", \"preview\": \"During this next phase, the program will mature critical technologies and make critical design decisions as well as assess industry partnerships.\"}, {\"title\": \"6 Things to Know About NASA's Ingenuity Mars Helicopter\", \"preview\": \"The first helicopter attempting to fly on another planet is a marvel of engineering. Get up to speed with these key facts about its plans.\"}]\n"
     ]
    }
   ],
   "source": [
    "json_mars = json.dumps(mars_list)\n",
    "print(json_mars)\n",
    "\n",
    "df=pd.read_json(json_mars)\n",
    "df.to_csv('mars.csv',index=False)\n",
    "\n",
    "browser.quit()"
   ]
  }
 ],
 "metadata": {
  "kernelspec": {
   "display_name": "Python 3.9.12 ('base')",
   "language": "python",
   "name": "python3"
  },
  "language_info": {
   "codemirror_mode": {
    "name": "ipython",
    "version": 3
   },
   "file_extension": ".py",
   "mimetype": "text/x-python",
   "name": "python",
   "nbconvert_exporter": "python",
   "pygments_lexer": "ipython3",
   "version": "3.9.12"
  },
  "orig_nbformat": 4,
  "vscode": {
   "interpreter": {
    "hash": "d452713d07931529b46a6a4adbae9c48126cf3f4bc3a50be39ac3715dec6caaa"
   }
  }
 },
 "nbformat": 4,
 "nbformat_minor": 2
}
